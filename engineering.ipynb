{
 "cells": [
  {
   "cell_type": "code",
   "execution_count": 64,
   "metadata": {},
   "outputs": [],
   "source": [
    "import pandas as pd\n",
    "import numpy as np\n",
    "import matplotlib.pyplot as plt\n",
    "import math\n",
    "import seaborn as sns\n",
    "%matplotlib inline"
   ]
  },
  {
   "cell_type": "code",
   "execution_count": 65,
   "metadata": {},
   "outputs": [
    {
     "data": {
      "text/html": [
       "<div>\n",
       "<style scoped>\n",
       "    .dataframe tbody tr th:only-of-type {\n",
       "        vertical-align: middle;\n",
       "    }\n",
       "\n",
       "    .dataframe tbody tr th {\n",
       "        vertical-align: top;\n",
       "    }\n",
       "\n",
       "    .dataframe thead th {\n",
       "        text-align: right;\n",
       "    }\n",
       "</style>\n",
       "<table border=\"1\" class=\"dataframe\">\n",
       "  <thead>\n",
       "    <tr style=\"text-align: right;\">\n",
       "      <th></th>\n",
       "      <th>team</th>\n",
       "      <th>date</th>\n",
       "      <th>goals</th>\n",
       "      <th>opponent</th>\n",
       "      <th>identifier</th>\n",
       "      <th>rolling_points_5</th>\n",
       "      <th>rolling_points_10</th>\n",
       "      <th>rolling_points_20</th>\n",
       "      <th>rolling_goals_5</th>\n",
       "      <th>rolling_goals_10</th>\n",
       "      <th>rolling_ga_5</th>\n",
       "      <th>rolling_ga_10</th>\n",
       "      <th>rolling_pp_5</th>\n",
       "      <th>rolling_pk_5</th>\n",
       "      <th>rolling_shots_5</th>\n",
       "      <th>rolling_sa_5</th>\n",
       "      <th>rolling_fow_5</th>\n",
       "    </tr>\n",
       "  </thead>\n",
       "  <tbody>\n",
       "    <tr>\n",
       "      <th>36863</th>\n",
       "      <td>Minnesota Wild</td>\n",
       "      <td>2022-04-22</td>\n",
       "      <td>6</td>\n",
       "      <td>Seattle Kraken</td>\n",
       "      <td>vs</td>\n",
       "      <td>1.8</td>\n",
       "      <td>1.6</td>\n",
       "      <td>1.65</td>\n",
       "      <td>4.2</td>\n",
       "      <td>4.2</td>\n",
       "      <td>3.0</td>\n",
       "      <td>3.0</td>\n",
       "      <td>15.66</td>\n",
       "      <td>88.34</td>\n",
       "      <td>30.6</td>\n",
       "      <td>29.2</td>\n",
       "      <td>46.20</td>\n",
       "    </tr>\n",
       "    <tr>\n",
       "      <th>36864</th>\n",
       "      <td>Minnesota Wild</td>\n",
       "      <td>2022-04-24</td>\n",
       "      <td>5</td>\n",
       "      <td>Nashville Predators</td>\n",
       "      <td>@</td>\n",
       "      <td>1.8</td>\n",
       "      <td>1.6</td>\n",
       "      <td>1.75</td>\n",
       "      <td>4.8</td>\n",
       "      <td>4.3</td>\n",
       "      <td>3.2</td>\n",
       "      <td>3.2</td>\n",
       "      <td>23.66</td>\n",
       "      <td>85.00</td>\n",
       "      <td>32.2</td>\n",
       "      <td>27.6</td>\n",
       "      <td>49.50</td>\n",
       "    </tr>\n",
       "    <tr>\n",
       "      <th>36865</th>\n",
       "      <td>Minnesota Wild</td>\n",
       "      <td>2022-04-26</td>\n",
       "      <td>3</td>\n",
       "      <td>Arizona Coyotes</td>\n",
       "      <td>vs</td>\n",
       "      <td>2.0</td>\n",
       "      <td>1.8</td>\n",
       "      <td>1.75</td>\n",
       "      <td>4.8</td>\n",
       "      <td>4.6</td>\n",
       "      <td>2.8</td>\n",
       "      <td>3.0</td>\n",
       "      <td>22.72</td>\n",
       "      <td>82.00</td>\n",
       "      <td>34.4</td>\n",
       "      <td>26.6</td>\n",
       "      <td>51.78</td>\n",
       "    </tr>\n",
       "    <tr>\n",
       "      <th>36866</th>\n",
       "      <td>Minnesota Wild</td>\n",
       "      <td>2022-04-28</td>\n",
       "      <td>3</td>\n",
       "      <td>Calgary Flames</td>\n",
       "      <td>vs</td>\n",
       "      <td>1.6</td>\n",
       "      <td>1.7</td>\n",
       "      <td>1.65</td>\n",
       "      <td>4.4</td>\n",
       "      <td>4.6</td>\n",
       "      <td>3.0</td>\n",
       "      <td>3.1</td>\n",
       "      <td>22.72</td>\n",
       "      <td>77.00</td>\n",
       "      <td>36.4</td>\n",
       "      <td>25.8</td>\n",
       "      <td>49.52</td>\n",
       "    </tr>\n",
       "    <tr>\n",
       "      <th>36867</th>\n",
       "      <td>Minnesota Wild</td>\n",
       "      <td>2022-04-29</td>\n",
       "      <td>4</td>\n",
       "      <td>Colorado Avalanche</td>\n",
       "      <td>vs</td>\n",
       "      <td>1.6</td>\n",
       "      <td>1.7</td>\n",
       "      <td>1.65</td>\n",
       "      <td>4.6</td>\n",
       "      <td>4.3</td>\n",
       "      <td>3.4</td>\n",
       "      <td>3.0</td>\n",
       "      <td>37.72</td>\n",
       "      <td>77.00</td>\n",
       "      <td>35.4</td>\n",
       "      <td>27.2</td>\n",
       "      <td>51.90</td>\n",
       "    </tr>\n",
       "  </tbody>\n",
       "</table>\n",
       "</div>"
      ],
      "text/plain": [
       "                 team       date  goals             opponent identifier  \\\n",
       "36863  Minnesota Wild 2022-04-22      6       Seattle Kraken         vs   \n",
       "36864  Minnesota Wild 2022-04-24      5  Nashville Predators          @   \n",
       "36865  Minnesota Wild 2022-04-26      3      Arizona Coyotes         vs   \n",
       "36866  Minnesota Wild 2022-04-28      3       Calgary Flames         vs   \n",
       "36867  Minnesota Wild 2022-04-29      4   Colorado Avalanche         vs   \n",
       "\n",
       "       rolling_points_5  rolling_points_10  rolling_points_20  \\\n",
       "36863               1.8                1.6               1.65   \n",
       "36864               1.8                1.6               1.75   \n",
       "36865               2.0                1.8               1.75   \n",
       "36866               1.6                1.7               1.65   \n",
       "36867               1.6                1.7               1.65   \n",
       "\n",
       "       rolling_goals_5  rolling_goals_10  rolling_ga_5  rolling_ga_10  \\\n",
       "36863              4.2               4.2           3.0            3.0   \n",
       "36864              4.8               4.3           3.2            3.2   \n",
       "36865              4.8               4.6           2.8            3.0   \n",
       "36866              4.4               4.6           3.0            3.1   \n",
       "36867              4.6               4.3           3.4            3.0   \n",
       "\n",
       "       rolling_pp_5  rolling_pk_5  rolling_shots_5  rolling_sa_5  \\\n",
       "36863         15.66         88.34             30.6          29.2   \n",
       "36864         23.66         85.00             32.2          27.6   \n",
       "36865         22.72         82.00             34.4          26.6   \n",
       "36866         22.72         77.00             36.4          25.8   \n",
       "36867         37.72         77.00             35.4          27.2   \n",
       "\n",
       "       rolling_fow_5  \n",
       "36863          46.20  \n",
       "36864          49.50  \n",
       "36865          51.78  \n",
       "36866          49.52  \n",
       "36867          51.90  "
      ]
     },
     "execution_count": 65,
     "metadata": {},
     "output_type": "execute_result"
    }
   ],
   "source": [
    "df = pd.read_csv('.//Team Frames//avalanche.csv')\n",
    "other_csvs = ['.//Team Frames//blackhawks.csv', './/Team Frames//bluejackets.csv', './/Team Frames//blues.csv', './/Team Frames//bruins.csv', './/Team Frames//canadiens.csv',\n",
    "'.//Team Frames//canucks.csv', './/Team Frames//capitals.csv', './/Team Frames//coyotes.csv', './/Team Frames//devils.csv', './/Team Frames//ducks.csv',\n",
    "'.//Team Frames//flames.csv', './/Team Frames//flyers.csv', './/Team Frames//goldenknights.csv', './/Team Frames//hurricanes.csv', './/Team Frames//islanders.csv',\n",
    "'.//Team Frames//jets.csv', './/Team Frames//kings.csv', './/Team Frames//kraken.csv', './/Team Frames//leafs.csv', './/Team Frames//lightning.csv',\n",
    "'.//Team Frames//oilers.csv', './/Team Frames//panthers.csv', './/Team Frames//penguins.csv', './/Team Frames//predators.csv', './/Team Frames//rangers.csv',\n",
    "'.//Team Frames//redwings.csv', './/Team Frames//sabres.csv', './/Team Frames//senators.csv', './/Team Frames//sharks.csv', './/Team Frames//stars.csv',\n",
    "'.//Team Frames//thrashers.csv', './/Team Frames//wild.csv']\n",
    "\n",
    "for csv in other_csvs:\n",
    "    temp = pd.read_csv(csv)\n",
    "    df = pd.concat([df, temp])\n",
    "\n",
    "\n",
    "df.dropna(inplace=True)\n",
    "df.reset_index(inplace=True)\n",
    "df['date'] = df['date'].apply(lambda x: pd.to_datetime(x[0:10], format='%Y/%m/%d'))\n",
    "df.drop(columns=['points', 'goals_against', 'power_play', 'penalty_kill', 'shots', 'shots_against', 'FOWp', 'index'], inplace=True)\n",
    "df.tail()"
   ]
  },
  {
   "cell_type": "code",
   "execution_count": 66,
   "metadata": {},
   "outputs": [],
   "source": [
    "df.rolling_points_5 = df.rolling_points_5 / 2\n",
    "df.rolling_points_10 = df.rolling_points_10 / 2\n",
    "df.rolling_points_20 = df.rolling_points_20 / 2\n",
    "df.rolling_pp_5 = df.rolling_pp_5 / 100\n",
    "df.rolling_pk_5 = df.rolling_pk_5 / 100\n",
    "df.rolling_fow_5 = df.rolling_fow_5 / 100"
   ]
  },
  {
   "cell_type": "code",
   "execution_count": 81,
   "metadata": {},
   "outputs": [
    {
     "name": "stderr",
     "output_type": "stream",
     "text": [
      "c:\\Users\\cbarg\\anaconda3\\lib\\site-packages\\pandas\\core\\frame.py:4308: SettingWithCopyWarning: \n",
      "A value is trying to be set on a copy of a slice from a DataFrame\n",
      "\n",
      "See the caveats in the documentation: https://pandas.pydata.org/pandas-docs/stable/user_guide/indexing.html#returning-a-view-versus-a-copy\n",
      "  return super().drop(\n"
     ]
    },
    {
     "data": {
      "text/html": [
       "<div>\n",
       "<style scoped>\n",
       "    .dataframe tbody tr th:only-of-type {\n",
       "        vertical-align: middle;\n",
       "    }\n",
       "\n",
       "    .dataframe tbody tr th {\n",
       "        vertical-align: top;\n",
       "    }\n",
       "\n",
       "    .dataframe thead th {\n",
       "        text-align: right;\n",
       "    }\n",
       "</style>\n",
       "<table border=\"1\" class=\"dataframe\">\n",
       "  <thead>\n",
       "    <tr style=\"text-align: right;\">\n",
       "      <th></th>\n",
       "      <th>team_x</th>\n",
       "      <th>date</th>\n",
       "      <th>goals_x</th>\n",
       "      <th>rolling_points_5_x</th>\n",
       "      <th>rolling_points_10_x</th>\n",
       "      <th>rolling_points_20_x</th>\n",
       "      <th>rolling_goals_5_x</th>\n",
       "      <th>rolling_goals_10_x</th>\n",
       "      <th>rolling_ga_5_x</th>\n",
       "      <th>rolling_ga_10_x</th>\n",
       "      <th>...</th>\n",
       "      <th>rolling_points_20_y</th>\n",
       "      <th>rolling_goals_5_y</th>\n",
       "      <th>rolling_goals_10_y</th>\n",
       "      <th>rolling_ga_5_y</th>\n",
       "      <th>rolling_ga_10_y</th>\n",
       "      <th>rolling_pp_5_y</th>\n",
       "      <th>rolling_pk_5_y</th>\n",
       "      <th>rolling_shots_5_y</th>\n",
       "      <th>rolling_sa_5_y</th>\n",
       "      <th>rolling_fow_5_y</th>\n",
       "    </tr>\n",
       "  </thead>\n",
       "  <tbody>\n",
       "    <tr>\n",
       "      <th>0</th>\n",
       "      <td>Colorado Avalanche</td>\n",
       "      <td>2005-11-21</td>\n",
       "      <td>2</td>\n",
       "      <td>0.4</td>\n",
       "      <td>0.65</td>\n",
       "      <td>0.600</td>\n",
       "      <td>2.8</td>\n",
       "      <td>3.4</td>\n",
       "      <td>3.4</td>\n",
       "      <td>3.0</td>\n",
       "      <td>...</td>\n",
       "      <td>0.600</td>\n",
       "      <td>3.4</td>\n",
       "      <td>2.9</td>\n",
       "      <td>2.8</td>\n",
       "      <td>2.0</td>\n",
       "      <td>0.2708</td>\n",
       "      <td>0.7056</td>\n",
       "      <td>33.8</td>\n",
       "      <td>25.2</td>\n",
       "      <td>0.5246</td>\n",
       "    </tr>\n",
       "    <tr>\n",
       "      <th>1</th>\n",
       "      <td>Colorado Avalanche</td>\n",
       "      <td>2005-11-27</td>\n",
       "      <td>6</td>\n",
       "      <td>0.5</td>\n",
       "      <td>0.55</td>\n",
       "      <td>0.575</td>\n",
       "      <td>3.2</td>\n",
       "      <td>3.4</td>\n",
       "      <td>3.0</td>\n",
       "      <td>3.1</td>\n",
       "      <td>...</td>\n",
       "      <td>0.675</td>\n",
       "      <td>2.8</td>\n",
       "      <td>2.7</td>\n",
       "      <td>2.4</td>\n",
       "      <td>2.4</td>\n",
       "      <td>0.1100</td>\n",
       "      <td>0.8120</td>\n",
       "      <td>28.4</td>\n",
       "      <td>30.0</td>\n",
       "      <td>0.4410</td>\n",
       "    </tr>\n",
       "    <tr>\n",
       "      <th>2</th>\n",
       "      <td>Colorado Avalanche</td>\n",
       "      <td>2005-12-04</td>\n",
       "      <td>4</td>\n",
       "      <td>0.6</td>\n",
       "      <td>0.55</td>\n",
       "      <td>0.650</td>\n",
       "      <td>3.8</td>\n",
       "      <td>3.2</td>\n",
       "      <td>3.2</td>\n",
       "      <td>3.0</td>\n",
       "      <td>...</td>\n",
       "      <td>0.575</td>\n",
       "      <td>2.4</td>\n",
       "      <td>3.2</td>\n",
       "      <td>2.4</td>\n",
       "      <td>2.5</td>\n",
       "      <td>0.2072</td>\n",
       "      <td>0.8472</td>\n",
       "      <td>28.8</td>\n",
       "      <td>27.6</td>\n",
       "      <td>0.5102</td>\n",
       "    </tr>\n",
       "    <tr>\n",
       "      <th>3</th>\n",
       "      <td>Colorado Avalanche</td>\n",
       "      <td>2005-12-07</td>\n",
       "      <td>4</td>\n",
       "      <td>0.6</td>\n",
       "      <td>0.55</td>\n",
       "      <td>0.600</td>\n",
       "      <td>4.0</td>\n",
       "      <td>3.4</td>\n",
       "      <td>3.0</td>\n",
       "      <td>3.1</td>\n",
       "      <td>...</td>\n",
       "      <td>0.425</td>\n",
       "      <td>2.8</td>\n",
       "      <td>2.7</td>\n",
       "      <td>3.2</td>\n",
       "      <td>3.2</td>\n",
       "      <td>0.1202</td>\n",
       "      <td>0.7700</td>\n",
       "      <td>24.8</td>\n",
       "      <td>35.8</td>\n",
       "      <td>0.5178</td>\n",
       "    </tr>\n",
       "    <tr>\n",
       "      <th>4</th>\n",
       "      <td>Colorado Avalanche</td>\n",
       "      <td>2005-12-12</td>\n",
       "      <td>2</td>\n",
       "      <td>0.4</td>\n",
       "      <td>0.55</td>\n",
       "      <td>0.600</td>\n",
       "      <td>3.2</td>\n",
       "      <td>3.5</td>\n",
       "      <td>3.8</td>\n",
       "      <td>3.2</td>\n",
       "      <td>...</td>\n",
       "      <td>0.800</td>\n",
       "      <td>2.8</td>\n",
       "      <td>3.8</td>\n",
       "      <td>2.2</td>\n",
       "      <td>2.2</td>\n",
       "      <td>0.2050</td>\n",
       "      <td>0.8310</td>\n",
       "      <td>28.0</td>\n",
       "      <td>30.4</td>\n",
       "      <td>0.4890</td>\n",
       "    </tr>\n",
       "  </tbody>\n",
       "</table>\n",
       "<p>5 rows × 29 columns</p>\n",
       "</div>"
      ],
      "text/plain": [
       "               team_x       date  goals_x  rolling_points_5_x  \\\n",
       "0  Colorado Avalanche 2005-11-21        2                 0.4   \n",
       "1  Colorado Avalanche 2005-11-27        6                 0.5   \n",
       "2  Colorado Avalanche 2005-12-04        4                 0.6   \n",
       "3  Colorado Avalanche 2005-12-07        4                 0.6   \n",
       "4  Colorado Avalanche 2005-12-12        2                 0.4   \n",
       "\n",
       "   rolling_points_10_x  rolling_points_20_x  rolling_goals_5_x  \\\n",
       "0                 0.65                0.600                2.8   \n",
       "1                 0.55                0.575                3.2   \n",
       "2                 0.55                0.650                3.8   \n",
       "3                 0.55                0.600                4.0   \n",
       "4                 0.55                0.600                3.2   \n",
       "\n",
       "   rolling_goals_10_x  rolling_ga_5_x  rolling_ga_10_x  ...  \\\n",
       "0                 3.4             3.4              3.0  ...   \n",
       "1                 3.4             3.0              3.1  ...   \n",
       "2                 3.2             3.2              3.0  ...   \n",
       "3                 3.4             3.0              3.1  ...   \n",
       "4                 3.5             3.8              3.2  ...   \n",
       "\n",
       "   rolling_points_20_y  rolling_goals_5_y  rolling_goals_10_y  rolling_ga_5_y  \\\n",
       "0                0.600                3.4                 2.9             2.8   \n",
       "1                0.675                2.8                 2.7             2.4   \n",
       "2                0.575                2.4                 3.2             2.4   \n",
       "3                0.425                2.8                 2.7             3.2   \n",
       "4                0.800                2.8                 3.8             2.2   \n",
       "\n",
       "   rolling_ga_10_y rolling_pp_5_y  rolling_pk_5_y  rolling_shots_5_y  \\\n",
       "0              2.0         0.2708          0.7056               33.8   \n",
       "1              2.4         0.1100          0.8120               28.4   \n",
       "2              2.5         0.2072          0.8472               28.8   \n",
       "3              3.2         0.1202          0.7700               24.8   \n",
       "4              2.2         0.2050          0.8310               28.0   \n",
       "\n",
       "   rolling_sa_5_y  rolling_fow_5_y  \n",
       "0            25.2           0.5246  \n",
       "1            30.0           0.4410  \n",
       "2            27.6           0.5102  \n",
       "3            35.8           0.5178  \n",
       "4            30.4           0.4890  \n",
       "\n",
       "[5 rows x 29 columns]"
      ]
     },
     "execution_count": 81,
     "metadata": {},
     "output_type": "execute_result"
    }
   ],
   "source": [
    "df_home = df[df['identifier'] == 'vs']\n",
    "df_home.drop(columns=['identifier'], inplace=True)\n",
    "df_away = df[df['identifier'] == '@']\n",
    "df_away.drop(columns=['identifier'], inplace=True)\n",
    "\n",
    "merged_df = pd.merge(df_home, df_away, how='left', left_on=['date', 'opponent'], right_on=['date', 'team'])\n",
    "merged_df.drop(columns=['opponent_x', 'opponent_y'], inplace=True)\n",
    "merged_df.head()"
   ]
  },
  {
   "cell_type": "code",
   "execution_count": 90,
   "metadata": {},
   "outputs": [],
   "source": [
    "merged_df['rolling_points_10_div'] = merged_df.rolling_points_10_x - merged_df.rolling_points_10_y\n",
    "merged_df['rolling_points_20_div'] = merged_df.rolling_points_20_x - merged_df.rolling_points_20_y\n",
    "merged_df['rolling_goals_5_div'] = merged_df.rolling_goals_5_x - merged_df.rolling_goals_5_y\n",
    "merged_df['rolling_goals_10_div'] = merged_df.rolling_goals_10_x - merged_df.rolling_goals_10_y\n",
    "merged_df['rolling_ga_5_div'] = merged_df.rolling_ga_5_y - merged_df.rolling_ga_5_x #reversed so that a higher number means home team is better in that area\n",
    "merged_df['rolling_ga_10_div'] = merged_df.rolling_ga_10_y - merged_df.rolling_ga_10_x #reversed so that a higher number means home team is better in that area\n",
    "merged_df['rolling_pp_5_div'] = merged_df.rolling_pp_5_x - merged_df.rolling_pp_5_y\n",
    "merged_df['rolling_pk_5_div'] = merged_df.rolling_pk_5_x - merged_df.rolling_pk_5_y\n",
    "merged_df['rolling_shots_5_div'] = merged_df.rolling_shots_5_x - merged_df.rolling_shots_5_y\n",
    "merged_df['rolling_sa_5_div'] = merged_df.rolling_sa_5_y - merged_df.rolling_sa_5_x #reversed so that a higher number means home team is better in that area\n",
    "merged_df['rolling_fow_5_div'] = merged_df.rolling_fow_5_x - merged_df.rolling_fow_5_y\n",
    "merged_df['result'] = np.where(merged_df.goals_x > merged_df.goals_y, 1, 0)\n",
    "\n",
    "merged_df.dropna(inplace=True)"
   ]
  },
  {
   "cell_type": "code",
   "execution_count": 91,
   "metadata": {},
   "outputs": [
    {
     "name": "stdout",
     "output_type": "stream",
     "text": [
      "<class 'pandas.core.frame.DataFrame'>\n",
      "Int64Index: 17143 entries, 0 to 18462\n",
      "Data columns (total 41 columns):\n",
      " #   Column                 Non-Null Count  Dtype         \n",
      "---  ------                 --------------  -----         \n",
      " 0   team_x                 17143 non-null  object        \n",
      " 1   date                   17143 non-null  datetime64[ns]\n",
      " 2   goals_x                17143 non-null  int64         \n",
      " 3   rolling_points_5_x     17143 non-null  float64       \n",
      " 4   rolling_points_10_x    17143 non-null  float64       \n",
      " 5   rolling_points_20_x    17143 non-null  float64       \n",
      " 6   rolling_goals_5_x      17143 non-null  float64       \n",
      " 7   rolling_goals_10_x     17143 non-null  float64       \n",
      " 8   rolling_ga_5_x         17143 non-null  float64       \n",
      " 9   rolling_ga_10_x        17143 non-null  float64       \n",
      " 10  rolling_pp_5_x         17143 non-null  float64       \n",
      " 11  rolling_pk_5_x         17143 non-null  float64       \n",
      " 12  rolling_shots_5_x      17143 non-null  float64       \n",
      " 13  rolling_sa_5_x         17143 non-null  float64       \n",
      " 14  rolling_fow_5_x        17143 non-null  float64       \n",
      " 15  team_y                 17143 non-null  object        \n",
      " 16  goals_y                17143 non-null  float64       \n",
      " 17  rolling_points_5_y     17143 non-null  float64       \n",
      " 18  rolling_points_10_y    17143 non-null  float64       \n",
      " 19  rolling_points_20_y    17143 non-null  float64       \n",
      " 20  rolling_goals_5_y      17143 non-null  float64       \n",
      " 21  rolling_goals_10_y     17143 non-null  float64       \n",
      " 22  rolling_ga_5_y         17143 non-null  float64       \n",
      " 23  rolling_ga_10_y        17143 non-null  float64       \n",
      " 24  rolling_pp_5_y         17143 non-null  float64       \n",
      " 25  rolling_pk_5_y         17143 non-null  float64       \n",
      " 26  rolling_shots_5_y      17143 non-null  float64       \n",
      " 27  rolling_sa_5_y         17143 non-null  float64       \n",
      " 28  rolling_fow_5_y        17143 non-null  float64       \n",
      " 29  rolling_points_10_div  17143 non-null  float64       \n",
      " 30  rolling_points_20_div  17143 non-null  float64       \n",
      " 31  rolling_goals_5_div    17143 non-null  float64       \n",
      " 32  rolling_goals_10_div   17143 non-null  float64       \n",
      " 33  rolling_ga_5_div       17143 non-null  float64       \n",
      " 34  rolling_ga_10_div      17143 non-null  float64       \n",
      " 35  rolling_pp_5_div       17143 non-null  float64       \n",
      " 36  rolling_pk_5_div       17143 non-null  float64       \n",
      " 37  rolling_shots_5_div    17143 non-null  float64       \n",
      " 38  rolling_sa_5_div       17143 non-null  float64       \n",
      " 39  rolling_fow_5_div      17143 non-null  float64       \n",
      " 40  result                 17143 non-null  int32         \n",
      "dtypes: datetime64[ns](1), float64(36), int32(1), int64(1), object(2)\n",
      "memory usage: 5.4+ MB\n"
     ]
    }
   ],
   "source": [
    "merged_df.info()"
   ]
  },
  {
   "cell_type": "markdown",
   "metadata": {},
   "source": [
    "# Logistic Regression"
   ]
  },
  {
   "cell_type": "code",
   "execution_count": 92,
   "metadata": {},
   "outputs": [
    {
     "name": "stderr",
     "output_type": "stream",
     "text": [
      "c:\\Users\\cbarg\\anaconda3\\lib\\site-packages\\sklearn\\linear_model\\_logistic.py:763: ConvergenceWarning: lbfgs failed to converge (status=1):\n",
      "STOP: TOTAL NO. of ITERATIONS REACHED LIMIT.\n",
      "\n",
      "Increase the number of iterations (max_iter) or scale the data as shown in:\n",
      "    https://scikit-learn.org/stable/modules/preprocessing.html\n",
      "Please also refer to the documentation for alternative solver options:\n",
      "    https://scikit-learn.org/stable/modules/linear_model.html#logistic-regression\n",
      "  n_iter_i = _check_optimize_result(\n"
     ]
    }
   ],
   "source": [
    "from sklearn.linear_model import LogisticRegression\n",
    "from sklearn.model_selection import train_test_split\n",
    "\n",
    "feature_cols = ['rolling_points_10_div','rolling_points_20_div', 'rolling_goals_5_div', 'rolling_goals_10_div',\n",
    "'rolling_ga_5_div', 'rolling_ga_10_div', 'rolling_pp_5_div', 'rolling_pk_5_div', 'rolling_shots_5_div', 'rolling_sa_5_div', 'rolling_fow_5_div']\n",
    "X = merged_df[feature_cols]\n",
    "y = merged_df.result\n",
    "\n",
    "X_train, X_test, y_train, y_test = train_test_split(X, y, test_size=0.25, random_state=42)\n",
    "\n",
    "logreg = LogisticRegression()\n",
    "\n",
    "logreg.fit(X_train, y_train)\n",
    "\n",
    "y_pred = logreg.predict(X_test)"
   ]
  },
  {
   "cell_type": "code",
   "execution_count": 93,
   "metadata": {},
   "outputs": [
    {
     "data": {
      "text/plain": [
       "array([[1374,  836],\n",
       "       [ 991, 1085]], dtype=int64)"
      ]
     },
     "execution_count": 93,
     "metadata": {},
     "output_type": "execute_result"
    }
   ],
   "source": [
    "from sklearn import metrics\n",
    "\n",
    "cnf_matrix = metrics.confusion_matrix(y_test, y_pred)\n",
    "cnf_matrix"
   ]
  },
  {
   "cell_type": "code",
   "execution_count": 97,
   "metadata": {},
   "outputs": [
    {
     "data": {
      "text/plain": [
       "Text(0.5, 257.44, 'Predicted Label')"
      ]
     },
     "execution_count": 97,
     "metadata": {},
     "output_type": "execute_result"
    },
    {
     "data": {
      "image/png": "[encoded data removed]",
      "text/plain": [
       "<Figure size 432x288 with 2 Axes>"
      ]
     },
     "metadata": {
      "needs_background": "light"
     },
     "output_type": "display_data"
    }
   ],
   "source": [
    "class_names = [0,1]\n",
    "fig, ax = plt.subplots()\n",
    "tick_marks = np.arange(len(class_names))\n",
    "plt.xticks(tick_marks, class_names)\n",
    "plt.yticks(tick_marks, class_names)\n",
    "\n",
    "sns.heatmap(pd.DataFrame(cnf_matrix), annot=True, cmap=\"YlGnBu\", fmt='g')\n",
    "ax.xaxis.set_label_position('top')\n",
    "plt.tight_layout()\n",
    "plt.title('Logistic Regression Confusion Matrix', y=1.1)\n",
    "plt.ylabel('Actual Label')\n",
    "plt.xlabel('Predicted Label')"
   ]
  },
  {
   "cell_type": "code",
   "execution_count": 95,
   "metadata": {},
   "outputs": [
    {
     "name": "stdout",
     "output_type": "stream",
     "text": [
      "Accuracy: 0.5737284181054596\n",
      "Precision: 0.5648099947943779\n",
      "Recall: 0.5226396917148363\n"
     ]
    }
   ],
   "source": [
    "print(\"Accuracy:\",metrics.accuracy_score(y_test, y_pred))\n",
    "print(\"Precision:\",metrics.precision_score(y_test, y_pred))\n",
    "print(\"Recall:\",metrics.recall_score(y_test, y_pred))"
   ]
  },
  {
   "cell_type": "code",
   "execution_count": 96,
   "metadata": {},
   "outputs": [
    {
     "data": {
      "image/png": "[encoded data removed]",
      "text/plain": [
       "<Figure size 432x288 with 1 Axes>"
      ]
     },
     "metadata": {
      "needs_background": "light"
     },
     "output_type": "display_data"
    }
   ],
   "source": [
    "y_pred_proba = logreg.predict_proba(X_test)[::,1]\n",
    "fpr, tpr, _ = metrics.roc_curve(y_test,  y_pred_proba)\n",
    "auc = metrics.roc_auc_score(y_test, y_pred_proba)\n",
    "plt.plot(fpr,tpr,label=\"data 1, auc=\"+str(auc))\n",
    "plt.legend(loc=4)\n",
    "plt.show()"
   ]
  },
  {
   "cell_type": "markdown",
   "metadata": {},
   "source": [
    "# Random Forest"
   ]
  },
  {
   "cell_type": "code",
   "execution_count": 103,
   "metadata": {},
   "outputs": [
    {
     "data": {
      "text/plain": [
       "Text(0.5, 257.44, 'Predicted Label')"
      ]
     },
     "execution_count": 103,
     "metadata": {},
     "output_type": "execute_result"
    },
    {
     "data": {
      "image/png": "[encoded data removed]",
      "text/plain": [
       "<Figure size 432x288 with 2 Axes>"
      ]
     },
     "metadata": {
      "needs_background": "light"
     },
     "output_type": "display_data"
    }
   ],
   "source": [
    "from sklearn.ensemble import RandomForestClassifier\n",
    "\n",
    "forest = RandomForestClassifier(random_state=42, max_depth=5)\n",
    "forest.fit(X_train, y_train)\n",
    "\n",
    "y_pred = forest.predict(X_test)\n",
    "\n",
    "cnf_matrix = metrics.confusion_matrix(y_test, y_pred)\n",
    "\n",
    "class_names = [0,1]\n",
    "fig, ax = plt.subplots()\n",
    "tick_marks = np.arange(len(class_names))\n",
    "plt.xticks(tick_marks, class_names)\n",
    "plt.yticks(tick_marks, class_names)\n",
    "\n",
    "sns.heatmap(pd.DataFrame(cnf_matrix), annot=True, cmap=\"YlGnBu\", fmt='g')\n",
    "ax.xaxis.set_label_position('top')\n",
    "plt.tight_layout()\n",
    "plt.title('Logistic Regression Confusion Matrix', y=1.1)\n",
    "plt.ylabel('Actual Label')\n",
    "plt.xlabel('Predicted Label')"
   ]
  },
  {
   "cell_type": "code",
   "execution_count": 104,
   "metadata": {},
   "outputs": [
    {
     "name": "stdout",
     "output_type": "stream",
     "text": [
      "Accuracy: 0.5655622958469435\n",
      "Precision: 0.5563751317175974\n",
      "Recall: 0.5086705202312138\n"
     ]
    }
   ],
   "source": [
    "print(\"Accuracy:\",metrics.accuracy_score(y_test, y_pred))\n",
    "print(\"Precision:\",metrics.precision_score(y_test, y_pred))\n",
    "print(\"Recall:\",metrics.recall_score(y_test, y_pred))"
   ]
  },
  {
   "cell_type": "code",
   "execution_count": null,
   "metadata": {},
   "outputs": [],
   "source": []
  }
 ],
 "metadata": {
  "interpreter": {
   "hash": "86022300c0da62992fb3a7e641ce620be4cd4414751dc9732af990920612b7f0"
  },
  "kernelspec": {
   "display_name": "Python 3.8.8 ('base')",
   "language": "python",
   "name": "python3"
  },
  "language_info": {
   "codemirror_mode": {
    "name": "ipython",
    "version": 3
   },
   "file_extension": ".py",
   "mimetype": "text/x-python",
   "name": "python",
   "nbconvert_exporter": "python",
   "pygments_lexer": "ipython3",
   "version": "3.8.8"
  },
  "orig_nbformat": 4
 },
 "nbformat": 4,
 "nbformat_minor": 2
}
