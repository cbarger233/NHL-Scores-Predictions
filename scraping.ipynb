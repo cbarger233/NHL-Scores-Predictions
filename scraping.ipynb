{
 "cells": [
  {
   "cell_type": "code",
   "execution_count": 5,
   "metadata": {},
   "outputs": [],
   "source": [
    "from bs4 import BeautifulSoup as bs\n",
    "from selenium import webdriver #for dynamically loaded page elements that requests won't read in\n",
    "from selenium.webdriver.chrome.service import Service\n",
    "from selenium.webdriver.common.by import By\n",
    "from selenium.webdriver.support import expected_conditions as EC\n",
    "from selenium.common.exceptions import NoSuchElementException\n",
    "from selenium.common.exceptions import ElementNotInteractableException\n",
    "from selenium.webdriver.chrome.options import Options\n",
    "service = Service('C:/Users/cbarg/Downloads/chromedriver_win32/chromedriver.exe') #if anyone ever dares use this you need to replace this with the path to your own chromedriver or what have you\n",
    "import time\n",
    "import re\n",
    "import numpy as np"
   ]
  },
  {
   "cell_type": "code",
   "execution_count": 6,
   "metadata": {},
   "outputs": [],
   "source": [
    "options = Options()\n",
    "options.add_argument('disable-infobars')\n",
    "options.add_argument('--incognito')\n",
    "options.add_argument(\"start-maximized\")"
   ]
  },
  {
   "cell_type": "code",
   "execution_count": 11,
   "metadata": {},
   "outputs": [
    {
     "name": "stdout",
     "output_type": "stream",
     "text": [
      "<div class=\"rt-td index-column rthfc-td-fixed rthfc-td-fixed-left\" role=\"gridcell\" style=\"left: 0px; flex: 46 0 auto; width: 46px; max-width: 60px;\">100</div>\n",
      "<div class=\"rt-td rthfc-td-fixed rthfc-td-fixed-left rthfc-td-fixed-left-last\" role=\"gridcell\" style=\"text-align: left; left: 46px; flex: 155 0 auto; width: 155px; max-width: 200px;\">Montréal Canadiens</div>\n",
      "<div class=\"rt-td primarySort\" role=\"gridcell\" style=\"text-align: left; flex: 142 0 auto; width: 142px; max-width: 160px;\"><div><a href=\"https://www.nhl.com/gamecenter/2010020052\">2010/10/15@ BUF</a></div></div>\n"
     ]
    }
   ],
   "source": [
    "driver = webdriver.Chrome(service=service, options=options)\n",
    "URL = 'https://www.nhl.com/stats/teams?aggregate=0&reportType=game&seasonFrom=20102011&seasonTo=20202021&dateFromSeason&gameType=2&filter=gamesPlayed,gte,1&sort=a_gameDate&page=0&pageSize=100'\n",
    "team = []\n",
    "date = []\n",
    "points = []\n",
    "RW = []\n",
    "ROW = []\n",
    "goals = []\n",
    "goals_against = []\n",
    "power_play = []\n",
    "penalty_kill = []\n",
    "net_ppp = []\n",
    "net_pkp = []\n",
    "shots = []\n",
    "shots_a = []\n",
    "FOWp = []\n",
    "\n",
    "driver.get(URL)\n",
    "time.sleep(5)\n",
    "html = driver.page_source\n",
    "soup = bs(html, features='html.parser')\n",
    "rows = soup.find_all('div', class_='rt-tr-group')\n",
    "\n",
    "for row in rows:\n",
    "    team.append(row.find('div', class_='rt-td rthfc-td-fixed rthfc-td-fixed-left rthfc-td-fixed-left-last').text.strip())\n",
    "    date.append(row.find('div', class_='rt-td primarySort').text.strip())\n",
    "    #the rest of the stats all have the exact same html tag and descriptors, we'll have to do something else here...\n",
    "    mess = row.find_all('div', class_='rt-td')\n",
    "\n",
    "print(mess[0])\n",
    "print(mess[1])\n",
    "print(mess[2])"
   ]
  },
  {
   "cell_type": "code",
   "execution_count": 12,
   "metadata": {},
   "outputs": [
    {
     "data": {
      "text/plain": [
       "24"
      ]
     },
     "execution_count": 12,
     "metadata": {},
     "output_type": "execute_result"
    }
   ],
   "source": [
    "len(mess)"
   ]
  },
  {
   "cell_type": "markdown",
   "metadata": {},
   "source": [
    "I'll finish this tomorrow. But Colton, here is a guide on how to obtain all of the information you need. Just look above, I suppose."
   ]
  }
 ],
 "metadata": {
  "interpreter": {
   "hash": "73ea789aeabe36cfa3e122f2870841d3aad4a0c0d2831e7e61a4dd56543ebf3f"
  },
  "kernelspec": {
   "display_name": "Python 3.8.8 ('base')",
   "language": "python",
   "name": "python3"
  },
  "language_info": {
   "codemirror_mode": {
    "name": "ipython",
    "version": 3
   },
   "file_extension": ".py",
   "mimetype": "text/x-python",
   "name": "python",
   "nbconvert_exporter": "python",
   "pygments_lexer": "ipython3",
   "version": "3.8.8"
  },
  "orig_nbformat": 4
 },
 "nbformat": 4,
 "nbformat_minor": 2
}
